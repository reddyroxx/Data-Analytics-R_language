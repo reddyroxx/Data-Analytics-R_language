{
 "cells": [
  {
   "cell_type": "code",
   "execution_count": 1,
   "metadata": {},
   "outputs": [],
   "source": [
    "import numpy as np\n",
    "import pandas as pd\n",
    "from scipy import spatial\n",
    "\n",
    "train = pd.read_csv('train.csv')\n",
    "test = pd.read_csv('test.csv')\n",
    "mn = train[\"rating\"].mean()"
   ]
  },
  {
   "cell_type": "code",
   "execution_count": 4,
   "metadata": {},
   "outputs": [
    {
     "data": {
      "text/plain": [
       "1.7813364070210418"
      ]
     },
     "execution_count": 4,
     "metadata": {},
     "output_type": "execute_result"
    }
   ],
   "source": [
    "itemr = (train.groupby('book'))['rating'].mean()\n",
    "trainmn = pd.read_csv('train.csv')\n",
    "trainmn['mean'] = mn\n",
    "rmse(trainmn['rating'], trainmn['mean'])"
   ]
  },
  {
   "cell_type": "code",
   "execution_count": 3,
   "metadata": {},
   "outputs": [],
   "source": [
    "def rmse(A, P):\n",
    "    return np.sqrt((np.square(A - P)).mean())"
   ]
  },
  {
   "cell_type": "code",
   "execution_count": 5,
   "metadata": {},
   "outputs": [],
   "source": [
    "def tomatrix(data):\n",
    "    rows = data.user_id.unique()\n",
    "    cols = data['book'].unique()\n",
    "    data = data[['user_id', 'book', 'rating']]\n",
    "    idict = dict(zip(cols, range(len(cols))))\n",
    "    udict = dict(zip(rows, range(len(rows))))\n",
    "    data.user_id = [ udict[i] for i in data.user_id ]\n",
    "    data['book'] = [ idict[i] for i in data['book'] ]\n",
    "    nmat = data.as_matrix()\n",
    "    return nmat\n"
   ]
  },
  {
   "cell_type": "code",
   "execution_count": 6,
   "metadata": {},
   "outputs": [],
   "source": [
    "trainmat = tomatrix(train)\n",
    "testmat = tomatrix(test)\n",
    "trainspar = np.count_nonzero(trainmat==0)/np.prod(trainmat.shape)*100\n",
    "testspar = np.count_nonzero(testmat==0)/np.prod(testmat.shape)*100"
   ]
  },
  {
   "cell_type": "code",
   "execution_count": 7,
   "metadata": {},
   "outputs": [],
   "source": [
    "rows = train.user_id.unique()\n",
    "cols = train['book'].unique()\n",
    "naive = np.zeros((len(rows),len(cols)))\n",
    "for row in trainmat:\n",
    "    naive[row[0], row[1]] = row[2]\n",
    "amean1 = np.mean(naive[naive!=0])\n",
    "umean1 = itemr = sum(naive.T) / sum((naive!=0).T)\n",
    "imean1 = itemr = sum(naive) / sum((naive!=0))"
   ]
  },
  {
   "cell_type": "code",
   "execution_count": 8,
   "metadata": {},
   "outputs": [],
   "source": [
    "def predict_naive(user, item):\n",
    "    prediction = imean1[item] + umean1[user] - amean1\n",
    "    return prediction\n"
   ]
  },
  {
   "cell_type": "code",
   "execution_count": 9,
   "metadata": {},
   "outputs": [
    {
     "data": {
      "text/plain": [
       "1.1444196071250665"
      ]
     },
     "execution_count": 9,
     "metadata": {},
     "output_type": "execute_result"
    }
   ],
   "source": [
    "predictions = []\n",
    "targets = []\n",
    "for row in trainmat:\n",
    "    user, item, actual = row[0], row[1], row[2]\n",
    "    predictions.append(predict_naive(user, item))\n",
    "    targets.append(actual)\n",
    "rmse(np.array(targets), np.array(predictions))"
   ]
  },
  {
   "cell_type": "code",
   "execution_count": 10,
   "metadata": {},
   "outputs": [],
   "source": [
    "def cos(mat, a, b):\n",
    "    if a == b:\n",
    "        return 1\n",
    "    aval = mat.T[a].nonzero()\n",
    "    bval = mat.T[b].nonzero()\n",
    "    corated = np.intersect1d(aval, bval)\n",
    "    if len(corated) == 0:\n",
    "        return 0\n",
    "    avec = np.take(mat.T[a], corated)\n",
    "    bvec = np.take(mat.T[b], corated)\n",
    "    val = 1 - spatial.distance.cosine(avec, bvec)\n",
    "    if np.isnan(val):\n",
    "        return 0\n",
    "    return val\n",
    "\n",
    "def pr(mat, a, b, imean):\n",
    "    if a == b:\n",
    "        return 1\n",
    "    aval = mat.T[a].nonzero()\n",
    "    bval = mat.T[b].nonzero()\n",
    "    corated = np.intersect1d(aval, bval)\n",
    "    if len(corated) < 2:\n",
    "        return 0\n",
    "    avec = np.take(mat.T[a], corated)\n",
    "    bvec = np.take(mat.T[b], corated)\n",
    "    avec1 = avec - imean[a]\n",
    "    bvec1 = bvec - imean[b]\n",
    "    val = 1 - spatial.distance.cosine(avec1, bvec1)\n",
    "    if np.isnan(val):\n",
    "        return 0\n",
    "    return val"
   ]
  },
  {
   "cell_type": "code",
   "execution_count": 11,
   "metadata": {},
   "outputs": [],
   "source": [
    "def itemsimilar(mat, option):\n",
    "    n = mat.shape[1]\n",
    "    sim_mat = np.zeros((n,n))\n",
    "    if option == 'pr':\n",
    "        print(\"PR\")\n",
    "        for i in range(n):\n",
    "            for j in range(n):\n",
    "                sim_mat[i][j] = pr(mat, i, j, imean1)\n",
    "        sim_mat = (sim_mat + 1)/2\n",
    "    elif option == 'cos':\n",
    "        print(\"COS\")\n",
    "        for i in range(n):\n",
    "            for j in range(n):\n",
    "                sim_mat[i][j] = cos(mat, i, j)\n",
    "    return sim_mat, amean1, umean1, imean1\n"
   ]
  },
  {
   "cell_type": "code",
   "execution_count": 12,
   "metadata": {},
   "outputs": [],
   "source": [
    "def predict(user, item, mat, item_similarity, amean, umean, imean, k=20):\n",
    "    nzero = mat[user].nonzero()[0]\n",
    "    if len(nzero) == 0:\n",
    "        return amean\n",
    "    baseline = imean + umean[user] - amean\n",
    "    choice = nzero[item_similarity[item, nzero].argsort()[::-1][:k]]\n",
    "    prediction = ((mat[user, choice] - baseline[choice]).dot(item_similarity[item, choice])/ sum(item_similarity[item, choice])) + baseline[item]\n",
    "    if np.isnan(prediction):\n",
    "        prediction = amean\n",
    "    if prediction > 10:\n",
    "        prediction = 10\n",
    "    if prediction < 1:\n",
    "        prediction = 1\n",
    "    return prediction"
   ]
  },
  {
   "cell_type": "code",
   "execution_count": 13,
   "metadata": {},
   "outputs": [
    {
     "name": "stdout",
     "output_type": "stream",
     "text": [
      "COS\n",
      "Train Error\n",
      "1.1444196071250665\n",
      "Test Error\n",
      "2.2847566119422518\n"
     ]
    }
   ],
   "source": [
    "def get_results(train_data, test_data, option, rows, cols, k):\n",
    "    full_mat = np.zeros((len(rows),len(cols)))\n",
    "    for row in train_data:\n",
    "        full_mat[row[0], row[1]] = row[2]\n",
    "    item_similarity, amean, umean, imean = itemsimilar(full_mat, option)\n",
    "    preds = []\n",
    "    real = []\n",
    "    for row in train_data:\n",
    "        user, item, actual = row[0], row[1], row[2]\n",
    "        preds.append(predict_naive(user, item))\n",
    "        real.append(actual)\n",
    "    err1 = rmse(np.array(real), np.array(preds))\n",
    "    preds = []\n",
    "    real = []\n",
    "    for row in test_data:\n",
    "        user, item, actual = row[0], row[1], row[2]\n",
    "        preds.append(predict_naive(user, item))\n",
    "        real.append(actual)\n",
    "    err2 = rmse(np.array(real), np.array(preds))\n",
    "    print(\"Train Error\")\n",
    "    print(err1)\n",
    "    print(\"Test Error\")\n",
    "    print(err2)\n",
    "get_results(trainmat, testmat, \"cos\", rows, cols, 5)"
   ]
  },
  {
   "cell_type": "code",
   "execution_count": null,
   "metadata": {
    "collapsed": true
   },
   "outputs": [],
   "source": [
    "#"
   ]
  }
 ],
 "metadata": {
  "kernelspec": {
   "display_name": "Python 3",
   "language": "python",
   "name": "python3"
  },
  "language_info": {
   "codemirror_mode": {
    "name": "ipython",
    "version": 3
   },
   "file_extension": ".py",
   "mimetype": "text/x-python",
   "name": "python",
   "nbconvert_exporter": "python",
   "pygments_lexer": "ipython3",
   "version": "3.6.4"
  }
 },
 "nbformat": 4,
 "nbformat_minor": 2
}
